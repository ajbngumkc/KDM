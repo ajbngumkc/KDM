{
  "nbformat": 4,
  "nbformat_minor": 0,
  "metadata": {
    "colab": {
      "name": "ICP1.ipynb",
      "provenance": [],
      "collapsed_sections": []
    },
    "kernelspec": {
      "name": "python3",
      "display_name": "Python 3"
    }
  },
  "cells": [
    {
      "cell_type": "code",
      "metadata": {
        "colab": {
          "base_uri": "https://localhost:8080/"
        },
        "id": "6NXGqf2LwQG7",
        "outputId": "8aa5c550-6de4-449b-e049-69bc83fdda24"
      },
      "source": [
        "# import all the libraries \n",
        "import nltk\n",
        "nltk.download('punkt')\n",
        "import pandas as pd\n",
        "from nltk.tokenize import sent_tokenize\n",
        "from nltk.tokenize import word_tokenize\n",
        "from nltk.probability import FreqDist\n",
        "import matplotlib.pyplot as plt"
      ],
      "execution_count": null,
      "outputs": [
        {
          "output_type": "stream",
          "name": "stdout",
          "text": [
            "[nltk_data] Downloading package punkt to /root/nltk_data...\n",
            "[nltk_data]   Unzipping tokenizers/punkt.zip.\n"
          ]
        }
      ]
    },
    {
      "cell_type": "markdown",
      "metadata": {
        "id": "jZuNLacm5pW0"
      },
      "source": [
        "Next we will mount our google drive on the colab \n",
        "run the code below and follow the instructions the G drive will be mounted on drive -> MyDrive"
      ]
    },
    {
      "cell_type": "code",
      "metadata": {
        "colab": {
          "base_uri": "https://localhost:8080/"
        },
        "id": "BtRZxg_l5Dok",
        "outputId": "4d389d70-0488-4d75-cd12-7778c3962284"
      },
      "source": [
        "from google.colab import drive\n",
        "drive.mount('/content/drive')"
      ],
      "execution_count": null,
      "outputs": [
        {
          "output_type": "stream",
          "name": "stdout",
          "text": [
            "Mounted at /content/drive\n"
          ]
        }
      ]
    },
    {
      "cell_type": "markdown",
      "metadata": {
        "id": "Em3LkHvJ5_UY"
      },
      "source": [
        "Readind the files as a pandas dataframe "
      ]
    },
    {
      "cell_type": "code",
      "metadata": {
        "colab": {
          "base_uri": "https://localhost:8080/",
          "height": 128
        },
        "id": "uwDfvRef1lrl",
        "outputId": "0b09f97d-69ed-484a-8936-076406d73ffa"
      },
      "source": [
        "dataset=pd.read_csv(\"/content/drive/MyDrive/input_file.txt\",delimiter=\"\\t\")\n",
        "dataset"
      ],
      "execution_count": null,
      "outputs": [
        {
          "output_type": "execute_result",
          "data": {
            "text/html": [
              "\n",
              "  <div id=\"df-88b661b5-1a79-4f12-b46f-ddf874729845\">\n",
              "    <div class=\"colab-df-container\">\n",
              "      <div>\n",
              "<style scoped>\n",
              "    .dataframe tbody tr th:only-of-type {\n",
              "        vertical-align: middle;\n",
              "    }\n",
              "\n",
              "    .dataframe tbody tr th {\n",
              "        vertical-align: top;\n",
              "    }\n",
              "\n",
              "    .dataframe thead th {\n",
              "        text-align: right;\n",
              "    }\n",
              "</style>\n",
              "<table border=\"1\" class=\"dataframe\">\n",
              "  <thead>\n",
              "    <tr style=\"text-align: right;\">\n",
              "      <th></th>\n",
              "      <th>Text Analytics has lots of applications in today's online world. By analyzing tweets on Twitter, we can find trending news and peoples reaction on a particular event. Amazon can understand user feedback or review on the specific product. BookMyShow can discover people's opinion about the movie. Youtube can also analyze and understand peoples viewpoints on a video.</th>\n",
              "    </tr>\n",
              "  </thead>\n",
              "  <tbody>\n",
              "  </tbody>\n",
              "</table>\n",
              "</div>\n",
              "      <button class=\"colab-df-convert\" onclick=\"convertToInteractive('df-88b661b5-1a79-4f12-b46f-ddf874729845')\"\n",
              "              title=\"Convert this dataframe to an interactive table.\"\n",
              "              style=\"display:none;\">\n",
              "        \n",
              "  <svg xmlns=\"http://www.w3.org/2000/svg\" height=\"24px\"viewBox=\"0 0 24 24\"\n",
              "       width=\"24px\">\n",
              "    <path d=\"M0 0h24v24H0V0z\" fill=\"none\"/>\n",
              "    <path d=\"M18.56 5.44l.94 2.06.94-2.06 2.06-.94-2.06-.94-.94-2.06-.94 2.06-2.06.94zm-11 1L8.5 8.5l.94-2.06 2.06-.94-2.06-.94L8.5 2.5l-.94 2.06-2.06.94zm10 10l.94 2.06.94-2.06 2.06-.94-2.06-.94-.94-2.06-.94 2.06-2.06.94z\"/><path d=\"M17.41 7.96l-1.37-1.37c-.4-.4-.92-.59-1.43-.59-.52 0-1.04.2-1.43.59L10.3 9.45l-7.72 7.72c-.78.78-.78 2.05 0 2.83L4 21.41c.39.39.9.59 1.41.59.51 0 1.02-.2 1.41-.59l7.78-7.78 2.81-2.81c.8-.78.8-2.07 0-2.86zM5.41 20L4 18.59l7.72-7.72 1.47 1.35L5.41 20z\"/>\n",
              "  </svg>\n",
              "      </button>\n",
              "      \n",
              "  <style>\n",
              "    .colab-df-container {\n",
              "      display:flex;\n",
              "      flex-wrap:wrap;\n",
              "      gap: 12px;\n",
              "    }\n",
              "\n",
              "    .colab-df-convert {\n",
              "      background-color: #E8F0FE;\n",
              "      border: none;\n",
              "      border-radius: 50%;\n",
              "      cursor: pointer;\n",
              "      display: none;\n",
              "      fill: #1967D2;\n",
              "      height: 32px;\n",
              "      padding: 0 0 0 0;\n",
              "      width: 32px;\n",
              "    }\n",
              "\n",
              "    .colab-df-convert:hover {\n",
              "      background-color: #E2EBFA;\n",
              "      box-shadow: 0px 1px 2px rgba(60, 64, 67, 0.3), 0px 1px 3px 1px rgba(60, 64, 67, 0.15);\n",
              "      fill: #174EA6;\n",
              "    }\n",
              "\n",
              "    [theme=dark] .colab-df-convert {\n",
              "      background-color: #3B4455;\n",
              "      fill: #D2E3FC;\n",
              "    }\n",
              "\n",
              "    [theme=dark] .colab-df-convert:hover {\n",
              "      background-color: #434B5C;\n",
              "      box-shadow: 0px 1px 3px 1px rgba(0, 0, 0, 0.15);\n",
              "      filter: drop-shadow(0px 1px 2px rgba(0, 0, 0, 0.3));\n",
              "      fill: #FFFFFF;\n",
              "    }\n",
              "  </style>\n",
              "\n",
              "      <script>\n",
              "        const buttonEl =\n",
              "          document.querySelector('#df-88b661b5-1a79-4f12-b46f-ddf874729845 button.colab-df-convert');\n",
              "        buttonEl.style.display =\n",
              "          google.colab.kernel.accessAllowed ? 'block' : 'none';\n",
              "\n",
              "        async function convertToInteractive(key) {\n",
              "          const element = document.querySelector('#df-88b661b5-1a79-4f12-b46f-ddf874729845');\n",
              "          const dataTable =\n",
              "            await google.colab.kernel.invokeFunction('convertToInteractive',\n",
              "                                                     [key], {});\n",
              "          if (!dataTable) return;\n",
              "\n",
              "          const docLinkHtml = 'Like what you see? Visit the ' +\n",
              "            '<a target=\"_blank\" href=https://colab.research.google.com/notebooks/data_table.ipynb>data table notebook</a>'\n",
              "            + ' to learn more about interactive tables.';\n",
              "          element.innerHTML = '';\n",
              "          dataTable['output_type'] = 'display_data';\n",
              "          await google.colab.output.renderOutput(dataTable, element);\n",
              "          const docLink = document.createElement('div');\n",
              "          docLink.innerHTML = docLinkHtml;\n",
              "          element.appendChild(docLink);\n",
              "        }\n",
              "      </script>\n",
              "    </div>\n",
              "  </div>\n",
              "  "
            ],
            "text/plain": [
              "Empty DataFrame\n",
              "Columns: [Text Analytics has lots of applications in today's online world. By analyzing tweets on Twitter, we can find trending news and peoples reaction on a particular event. Amazon can understand user feedback or review on the specific product. BookMyShow can discover people's opinion about the movie. Youtube can also analyze and understand peoples viewpoints on a video.]\n",
              "Index: []"
            ]
          },
          "metadata": {},
          "execution_count": 3
        }
      ]
    },
    {
      "cell_type": "markdown",
      "metadata": {
        "id": "CFwt6jSE6E4y"
      },
      "source": [
        "converting the data frame to text"
      ]
    },
    {
      "cell_type": "code",
      "metadata": {
        "colab": {
          "base_uri": "https://localhost:8080/",
          "height": 71
        },
        "id": "WKzm5G3r4bgf",
        "outputId": "025ba24d-0bb5-484d-8606-80a39832ccf3"
      },
      "source": [
        "text= dataset.to_string()\n",
        "text"
      ],
      "execution_count": null,
      "outputs": [
        {
          "output_type": "execute_result",
          "data": {
            "application/vnd.google.colaboratory.intrinsic+json": {
              "type": "string"
            },
            "text/plain": [
              "\"Empty DataFrame\\nColumns: [Text Analytics has lots of applications in today's online world. By analyzing tweets on Twitter, we can find trending news and peoples reaction on a particular event. Amazon can understand user feedback or review on the specific product. BookMyShow can discover people's opinion about the movie. Youtube can also analyze and understand peoples viewpoints on a video.]\\nIndex: []\""
            ]
          },
          "metadata": {},
          "execution_count": 4
        }
      ]
    },
    {
      "cell_type": "markdown",
      "metadata": {
        "id": "YFTuCNT06Kqk"
      },
      "source": [
        "Breaking the text into sentences "
      ]
    },
    {
      "cell_type": "code",
      "metadata": {
        "colab": {
          "base_uri": "https://localhost:8080/"
        },
        "id": "i534fBAG13Mk",
        "outputId": "764b2489-1137-4af5-c5ca-52cec33065c8"
      },
      "source": [
        "tokenized_text = sent_tokenize(text)\n",
        "print(tokenized_text)"
      ],
      "execution_count": null,
      "outputs": [
        {
          "output_type": "stream",
          "name": "stdout",
          "text": [
            "[\"Empty DataFrame\\nColumns: [Text Analytics has lots of applications in today's online world.\", 'By analyzing tweets on Twitter, we can find trending news and peoples reaction on a particular event.', 'Amazon can understand user feedback or review on the specific product.', \"BookMyShow can discover people's opinion about the movie.\", 'Youtube can also analyze and understand peoples viewpoints on a video.]', 'Index: []']\n"
          ]
        }
      ]
    },
    {
      "cell_type": "markdown",
      "metadata": {
        "id": "Dod_LNbU6Qd_"
      },
      "source": [
        "Breaking the text into words "
      ]
    },
    {
      "cell_type": "code",
      "metadata": {
        "colab": {
          "base_uri": "https://localhost:8080/"
        },
        "id": "68mi95936PUV",
        "outputId": "1a8f76c4-6672-4a6b-9cda-9a981c1b4a7d"
      },
      "source": [
        "tokenized_word=word_tokenize(text)\n",
        "print(tokenized_word)\n",
        "print(len(tokenized_word))"
      ],
      "execution_count": null,
      "outputs": [
        {
          "output_type": "stream",
          "name": "stdout",
          "text": [
            "['Empty', 'DataFrame', 'Columns', ':', '[', 'Text', 'Analytics', 'has', 'lots', 'of', 'applications', 'in', 'today', \"'s\", 'online', 'world', '.', 'By', 'analyzing', 'tweets', 'on', 'Twitter', ',', 'we', 'can', 'find', 'trending', 'news', 'and', 'peoples', 'reaction', 'on', 'a', 'particular', 'event', '.', 'Amazon', 'can', 'understand', 'user', 'feedback', 'or', 'review', 'on', 'the', 'specific', 'product', '.', 'BookMyShow', 'can', 'discover', 'people', \"'s\", 'opinion', 'about', 'the', 'movie', '.', 'Youtube', 'can', 'also', 'analyze', 'and', 'understand', 'peoples', 'viewpoints', 'on', 'a', 'video', '.', ']', 'Index', ':', '[', ']']\n",
            "75\n"
          ]
        }
      ]
    },
    {
      "cell_type": "markdown",
      "metadata": {
        "id": "yE_HQcpr7PEu"
      },
      "source": [
        "finding the frequencies distribution"
      ]
    },
    {
      "cell_type": "code",
      "metadata": {
        "colab": {
          "base_uri": "https://localhost:8080/"
        },
        "id": "9r09oSPY6fC-",
        "outputId": "a85dbf3f-a1ff-4ed4-c9e5-3d11aea7c8aa"
      },
      "source": [
        "fdist = FreqDist(tokenized_word)\n",
        "print(fdist)\n"
      ],
      "execution_count": null,
      "outputs": [
        {
          "output_type": "stream",
          "name": "stdout",
          "text": [
            "<FreqDist with 56 samples and 75 outcomes>\n"
          ]
        }
      ]
    },
    {
      "cell_type": "markdown",
      "metadata": {
        "id": "siGMa60N7ZhI"
      },
      "source": [
        "Finding the two most common words  "
      ]
    },
    {
      "cell_type": "code",
      "metadata": {
        "colab": {
          "base_uri": "https://localhost:8080/"
        },
        "id": "tJ5Mj1zL6vIZ",
        "outputId": "a39b7699-d2be-4ff8-f670-b8035b4c23e4"
      },
      "source": [
        "fdist.most_common(2)"
      ],
      "execution_count": null,
      "outputs": [
        {
          "output_type": "execute_result",
          "data": {
            "text/plain": [
              "[('.', 5), ('on', 4)]"
            ]
          },
          "metadata": {},
          "execution_count": 8
        }
      ]
    },
    {
      "cell_type": "markdown",
      "metadata": {
        "id": "YeWR1zlE7jEZ"
      },
      "source": [
        "Plot of the frequencies distribution"
      ]
    },
    {
      "cell_type": "code",
      "metadata": {
        "colab": {
          "base_uri": "https://localhost:8080/",
          "height": 335
        },
        "id": "oKnk9yMp6yEj",
        "outputId": "96b7895e-b9da-4cb2-c073-444dc81f56ce"
      },
      "source": [
        "v=fdist.plot(75,cumulative=False)\n",
        "plt.show()"
      ],
      "execution_count": null,
      "outputs": [
        {
          "output_type": "display_data",
          "data": {
            "image/png": "[encoded data removed]",
            "text/plain": [
              "<Figure size 432x288 with 1 Axes>"
            ]
          },
          "metadata": {
            "needs_background": "light"
          }
        }
      ]
    },
    {
      "cell_type": "markdown",
      "source": [
        "#Analysis 01 \n",
        "## Removal of StopWords"
      ],
      "metadata": {
        "id": "1dlx5L8P19jL"
      }
    },
    {
      "cell_type": "code",
      "source": [
        "nltk.download(\"stopwords\") "
      ],
      "metadata": {
        "colab": {
          "base_uri": "https://localhost:8080/"
        },
        "id": "KQDR8dJ33nN9",
        "outputId": "2cff49e0-fcf1-490e-af2c-f4793aec5acb"
      },
      "execution_count": null,
      "outputs": [
        {
          "output_type": "stream",
          "name": "stdout",
          "text": [
            "[nltk_data] Downloading package stopwords to /root/nltk_data...\n",
            "[nltk_data]   Unzipping corpora/stopwords.zip.\n"
          ]
        },
        {
          "output_type": "execute_result",
          "data": {
            "text/plain": [
              "True"
            ]
          },
          "metadata": {},
          "execution_count": 14
        }
      ]
    },
    {
      "cell_type": "code",
      "source": [
        "from nltk.corpus import stopwords\n",
        "\n",
        " \n",
        " \n",
        "stop_words = set(stopwords.words('english'))\n",
        " \n",
        "word_tokens = tokenized_word\n",
        " \n",
        "filtered_sentence = [w for w in word_tokens if not w.lower() in stop_words]\n",
        " \n",
        "filtered_sentence = []\n",
        " \n",
        "for w in word_tokens:\n",
        "    if w not in stop_words:\n",
        "        filtered_sentence.append(w)\n",
        " \n",
        "print(word_tokens)\n",
        "print(len(word_tokens))\n",
        "print(filtered_sentence)\n",
        "print(len(filtered_sentence))"
      ],
      "metadata": {
        "colab": {
          "base_uri": "https://localhost:8080/"
        },
        "id": "rVCrJmcD1-BS",
        "outputId": "163f5693-3f06-4b8a-8652-cf046e910ae3"
      },
      "execution_count": null,
      "outputs": [
        {
          "output_type": "stream",
          "name": "stdout",
          "text": [
            "['Empty', 'DataFrame', 'Columns', ':', '[', 'Text', 'Analytics', 'has', 'lots', 'of', 'applications', 'in', 'today', \"'s\", 'online', 'world', '.', 'By', 'analyzing', 'tweets', 'on', 'Twitter', ',', 'we', 'can', 'find', 'trending', 'news', 'and', 'peoples', 'reaction', 'on', 'a', 'particular', 'event', '.', 'Amazon', 'can', 'understand', 'user', 'feedback', 'or', 'review', 'on', 'the', 'specific', 'product', '.', 'BookMyShow', 'can', 'discover', 'people', \"'s\", 'opinion', 'about', 'the', 'movie', '.', 'Youtube', 'can', 'also', 'analyze', 'and', 'understand', 'peoples', 'viewpoints', 'on', 'a', 'video', '.', ']', 'Index', ':', '[', ']']\n",
            "75\n",
            "['Empty', 'DataFrame', 'Columns', ':', '[', 'Text', 'Analytics', 'lots', 'applications', 'today', \"'s\", 'online', 'world', '.', 'By', 'analyzing', 'tweets', 'Twitter', ',', 'find', 'trending', 'news', 'peoples', 'reaction', 'particular', 'event', '.', 'Amazon', 'understand', 'user', 'feedback', 'review', 'specific', 'product', '.', 'BookMyShow', 'discover', 'people', \"'s\", 'opinion', 'movie', '.', 'Youtube', 'also', 'analyze', 'understand', 'peoples', 'viewpoints', 'video', '.', ']', 'Index', ':', '[', ']']\n",
            "55\n"
          ]
        }
      ]
    },
    {
      "cell_type": "markdown",
      "source": [
        "20+ words have been categorized as stop words and have been removed from the text."
      ],
      "metadata": {
        "id": "B22o-ImU4NXH"
      }
    },
    {
      "cell_type": "markdown",
      "source": [
        "#Analysis 2\n",
        "## POS Tagging and distribution of tagged words histogram"
      ],
      "metadata": {
        "id": "y3QJ_5ED7bGt"
      }
    },
    {
      "cell_type": "code",
      "source": [
        "nltk.download('averaged_perceptron_tagger')"
      ],
      "metadata": {
        "colab": {
          "base_uri": "https://localhost:8080/"
        },
        "id": "zB3eBEXu8Z4m",
        "outputId": "ba012d17-395c-4448-d245-27096f42b7fc"
      },
      "execution_count": null,
      "outputs": [
        {
          "output_type": "stream",
          "name": "stdout",
          "text": [
            "[nltk_data] Downloading package averaged_perceptron_tagger to\n",
            "[nltk_data]     /root/nltk_data...\n",
            "[nltk_data]   Unzipping taggers/averaged_perceptron_tagger.zip.\n"
          ]
        },
        {
          "output_type": "execute_result",
          "data": {
            "text/plain": [
              "True"
            ]
          },
          "metadata": {},
          "execution_count": 30
        }
      ]
    },
    {
      "cell_type": "code",
      "source": [
        "# ANALYSIS 2: Distribution of Parts-of-speech\n",
        "from nltk import pos_tag\n",
        "import string\n",
        "# finding all pos from the text using nltk\n",
        "pos_tags = nltk.pos_tag(filtered_sentence) \n",
        "\n",
        "# Extracting proper noun,common noun, pronuon, adverb, verb and adjective\n",
        "prop_nn, comm_nn, pr_nn, advrb, vrb, adj = [], [], [], [], [], []\n",
        "for tag in pos_tags:\n",
        "    wrd, tg = tag\n",
        "\n",
        "    # iterating over the word to find any punctuation and skipping those words\n",
        "    if any([(True if alpt in string.punctuation else False) for alpt in wrd]):\n",
        "        continue\n",
        "    \n",
        "    # classifying different parts of speech\n",
        "    if 'NNP' in tg:\n",
        "        prop_nn.append(wrd)\n",
        "    elif ('NNP' not in tg) and ('NN' in tg):\n",
        "        comm_nn.append(wrd)\n",
        "    elif 'PR' in tg:\n",
        "        pr_nn.append(wrd)\n",
        "    elif 'RB' in tg:\n",
        "        advrb.append(wrd)\n",
        "    elif 'VB' in tg:\n",
        "        vrb.append(wrd)\n",
        "    elif 'JJ' in tg:\n",
        "        adj.append(wrd)\n",
        "\n",
        "# Extracting unique words for each POS\n",
        "prop_nn = list(set(prop_nn))\n",
        "comm_nn = list(set(comm_nn))\n",
        "pr_nn = list(set(pr_nn))\n",
        "advrb = list(set(advrb))\n",
        "vrb = list(set(vrb))\n",
        "adj = list(set(adj))\n",
        "\n",
        "# plotting the POS distribution\n",
        "plt.bar(['p_noun', 'c_noun', 'pronoun', 'adverb', 'verb',\n",
        "          'adjective'], [len(prop_nn), len(comm_nn), len(pr_nn), len(advrb),\n",
        "          len(vrb), len(adj)])\n",
        "plt.xlabel('parts of speech')\n",
        "plt.ylabel('word count')\n",
        "plt.suptitle('Parts of speech distribution')\n",
        "plt.show()"
      ],
      "metadata": {
        "colab": {
          "base_uri": "https://localhost:8080/",
          "height": 308
        },
        "id": "73PlVXqF7anA",
        "outputId": "8262114e-3e28-4278-9a37-3eadb91b9484"
      },
      "execution_count": null,
      "outputs": [
        {
          "output_type": "display_data",
          "data": {
            "image/png": "[encoded data removed]",
            "text/plain": [
              "<Figure size 432x288 with 1 Axes>"
            ]
          },
          "metadata": {
            "needs_background": "light"
          }
        }
      ]
    },
    {
      "cell_type": "code",
      "source": [
        "pos_tags"
      ],
      "metadata": {
        "colab": {
          "base_uri": "https://localhost:8080/"
        },
        "id": "l-jFix_m9VOU",
        "outputId": "d5875b5b-8bd0-4e0b-d7e4-55809d50f15d"
      },
      "execution_count": null,
      "outputs": [
        {
          "output_type": "execute_result",
          "data": {
            "text/plain": [
              "[('Empty', 'NNP'),\n",
              " ('DataFrame', 'NNP'),\n",
              " ('Columns', 'NNP'),\n",
              " (':', ':'),\n",
              " ('[', 'JJ'),\n",
              " ('Text', 'NNP'),\n",
              " ('Analytics', 'NNP'),\n",
              " ('lots', 'NNS'),\n",
              " ('applications', 'NNS'),\n",
              " ('today', 'NN'),\n",
              " (\"'s\", 'POS'),\n",
              " ('online', 'JJ'),\n",
              " ('world', 'NN'),\n",
              " ('.', '.'),\n",
              " ('By', 'IN'),\n",
              " ('analyzing', 'VBG'),\n",
              " ('tweets', 'NNS'),\n",
              " ('Twitter', 'NNP'),\n",
              " (',', ','),\n",
              " ('find', 'VBP'),\n",
              " ('trending', 'VBG'),\n",
              " ('news', 'NN'),\n",
              " ('peoples', 'NNS'),\n",
              " ('reaction', 'VBP'),\n",
              " ('particular', 'JJ'),\n",
              " ('event', 'NN'),\n",
              " ('.', '.'),\n",
              " ('Amazon', 'NNP'),\n",
              " ('understand', 'VBP'),\n",
              " ('user', 'NNP'),\n",
              " ('feedback', 'NN'),\n",
              " ('review', 'NN'),\n",
              " ('specific', 'JJ'),\n",
              " ('product', 'NN'),\n",
              " ('.', '.'),\n",
              " ('BookMyShow', 'NNP'),\n",
              " ('discover', 'JJ'),\n",
              " ('people', 'NNS'),\n",
              " (\"'s\", 'POS'),\n",
              " ('opinion', 'NN'),\n",
              " ('movie', 'NN'),\n",
              " ('.', '.'),\n",
              " ('Youtube', 'NNP'),\n",
              " ('also', 'RB'),\n",
              " ('analyze', 'VBP'),\n",
              " ('understand', 'JJ'),\n",
              " ('peoples', 'NNS'),\n",
              " ('viewpoints', 'NNS'),\n",
              " ('video', 'NN'),\n",
              " ('.', '.'),\n",
              " (']', 'JJ'),\n",
              " ('Index', 'NN'),\n",
              " (':', ':'),\n",
              " ('[', 'NN'),\n",
              " (']', 'NN')]"
            ]
          },
          "metadata": {},
          "execution_count": 39
        }
      ]
    },
    {
      "cell_type": "markdown",
      "source": [
        "common_noun have occured the most of the time as indicated by the histogram"
      ],
      "metadata": {
        "id": "ael3FfuL9jaM"
      }
    },
    {
      "cell_type": "markdown",
      "source": [
        "#Analysis 3 \n",
        "## Using Named entity recognition"
      ],
      "metadata": {
        "id": "MU7mfL7-XMma"
      }
    },
    {
      "cell_type": "code",
      "source": [
        "# import spacy\n",
        "import spacy\n",
        " \n",
        "# load spacy model\n",
        "nlp = spacy.load('en_core_web_sm')\n",
        " \n",
        "# load data\n",
        "sentence = text\n",
        "doc = nlp(sentence)\n",
        " \n",
        "# print entities\n",
        "for ent in doc.ents:\n",
        "    print(ent.text,  ent.label_)"
      ],
      "metadata": {
        "id": "D52E-zQfSDGU",
        "colab": {
          "base_uri": "https://localhost:8080/"
        },
        "outputId": "1da5f4e0-5555-45c0-8e7b-0e1c1db1b701"
      },
      "execution_count": 62,
      "outputs": [
        {
          "output_type": "stream",
          "name": "stdout",
          "text": [
            "Text Analytics ORG\n",
            "today DATE\n",
            "Twitter PERSON\n",
            "Amazon ORG\n"
          ]
        }
      ]
    },
    {
      "cell_type": "markdown",
      "source": [
        "Named entity recognition of our sentences is given above. All the organizations, places and time are tagged accordingly. \n"
      ],
      "metadata": {
        "id": "R9nCQJvWaPFy"
      }
    }
  ]
}